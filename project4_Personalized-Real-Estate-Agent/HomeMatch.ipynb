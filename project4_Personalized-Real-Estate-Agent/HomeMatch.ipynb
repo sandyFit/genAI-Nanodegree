{
 "cells": [
  {
   "cell_type": "markdown",
   "id": "a108af04",
   "metadata": {},
   "source": [
    "# HomeMatch Real Estate Listings App\n",
    "---\n",
    "\n",
    "This IPython Notebook provides a streamlined, end-to-end pipeline for generating, processing, and presenting personalized real estate listings using cutting-edge tools like LangChain and OpenAI. It covers data generation, embedding listings into a vector database, enabling efficient semantic search, and delivering personalized recommendations via an interactive widget.\n",
    "\n",
    "---"
   ]
  },
  {
   "cell_type": "code",
   "execution_count": null,
   "id": "6554fd4c",
   "metadata": {},
   "outputs": [
    {
     "name": "stdout",
     "output_type": "stream",
     "text": [
      "🔑 Loaded API key and base.\n"
     ]
    }
   ],
   "source": [
    "import os\n",
    "from dotenv import load_dotenv\n",
    "import json\n",
    "\n",
    "load_dotenv(\"key.env\")\n",
    "api_key = os.getenv(\"OPENAI_API_KEY\")\n",
    "api_base = os.getenv(\"OPENAI_API_BASE\")\n",
    "assert api_key, \"No API key found in key.env\"\n",
    "print(\"🔑 Loaded API key and base.\")\n"
   ]
  },
  {
   "cell_type": "markdown",
   "id": "e2be76d4",
   "metadata": {},
   "source": [
    "# Usage Guide\n",
    "\n",
    "## Generating Real Estate Listings\n",
    "\n",
    "### 1. Initialize the Application"
   ]
  },
  {
   "cell_type": "code",
   "execution_count": null,
   "id": "232fac17",
   "metadata": {},
   "outputs": [],
   "source": [
    "# Import the service\n",
    "from services import HomeMatchApp"
   ]
  },
  {
   "cell_type": "code",
   "execution_count": null,
   "id": "be2ad78d",
   "metadata": {},
   "outputs": [
    {
     "name": "stdout",
     "output_type": "stream",
     "text": [
      "⚙️ HomeMatchApp initialized — no listings generated yet.\n"
     ]
    }
   ],
   "source": [
    "# Instanciate the HomeMatchApp class\n",
    "app = HomeMatchApp(api_key, api_base)"
   ]
  },
  {
   "cell_type": "markdown",
   "id": "d1bcd2d5",
   "metadata": {},
   "source": [
    "### 2. Generate Property Listings\n",
    "\n",
    "Listings can be generated and processed in batches adding the desired amount as parameter\n",
    "```\n",
    " app.generate_listings(100)\n",
    "```"
   ]
  },
  {
   "cell_type": "code",
   "execution_count": null,
   "id": "d8f87930",
   "metadata": {},
   "outputs": [
    {
     "name": "stdout",
     "output_type": "stream",
     "text": [
      "🛠 Generating 10 diverse listings...\n",
      "  Generating listing 1/10...\n",
      "  Generating listing 2/10...\n",
      "  Generating listing 3/10...\n",
      "  Generating listing 4/10...\n",
      "  Generating listing 5/10...\n",
      "  Generating listing 6/10...\n",
      "  Generating listing 7/10...\n",
      "  Generating listing 8/10...\n",
      "  Generating listing 9/10...\n",
      "  Generating listing 10/10...\n",
      "✅ Generated 10 listings (100.0% success rate).\n",
      "📊 Diversity Analysis:\n",
      "  🏘️  Neighborhoods: 10/10 unique\n",
      "  💰 Prices: 10/10 unique\n",
      "  🛏️  Bedroom counts: 5 different configurations\n",
      "  ✅ No duplicate neighborhoods!\n"
     ]
    },
    {
     "data": {
      "text/plain": [
       "True"
      ]
     },
     "execution_count": 8,
     "metadata": {},
     "output_type": "execute_result"
    }
   ],
   "source": [
    "# generate a set of listings (synthetic data)\n",
    "app.generate_listings(10)"
   ]
  },
  {
   "cell_type": "code",
   "execution_count": null,
   "id": "2d51978c",
   "metadata": {},
   "outputs": [
    {
     "name": "stdout",
     "output_type": "stream",
     "text": [
      "💾 Listings saved to listings.json\n"
     ]
    }
   ],
   "source": [
    "# save them in json file\n",
    "app.save_listings(\"listings.json\")"
   ]
  },
  {
   "cell_type": "markdown",
   "id": "1bf1fe2b",
   "metadata": {},
   "source": [
    "### 3. Load Listings into Vector Database"
   ]
  },
  {
   "cell_type": "code",
   "execution_count": null,
   "id": "069babc3",
   "metadata": {},
   "outputs": [
    {
     "name": "stdout",
     "output_type": "stream",
     "text": [
      "📂 Loaded 10 listings from listings.json\n"
     ]
    },
    {
     "name": "stderr",
     "output_type": "stream",
     "text": [
      "/home/student/.cache/chroma/onnx_models/all-MiniLM-L6-v2/onnx.tar.gz: 100%|██████████| 79.3M/79.3M [00:01<00:00, 70.2MiB/s]\n"
     ]
    },
    {
     "name": "stdout",
     "output_type": "stream",
     "text": [
      "✅ Successfully added 10 listings to vector database.\n"
     ]
    }
   ],
   "source": [
    "# Add to vector database\n",
    "app.load_listings(\"listings.json\")"
   ]
  },
  {
   "cell_type": "code",
   "execution_count": null,
   "id": "05f0d933",
   "metadata": {},
   "outputs": [
    {
     "name": "stdout",
     "output_type": "stream",
     "text": [
      "📦 Total items in vector DB: 10\n",
      "\n",
      "--- First listing ---\n",
      "Document: Neighborhood: Royal Estates\n",
      "                Price: $385,791\n",
      "                Bedrooms: 5\n",
      "                Bathrooms: 3\n",
      "                Size: 3005 sqft\n",
      "                Description: Welcome to your dream  ...\n",
      "Metadata: {'bathrooms': 3, 'bedrooms': 5, 'description': 'Welcome to your dream home - a spectacular modern residence in the prestigious Royal Estates neighborhood. This 5-bedroom, 3-bathroom home boasts 3005 sqft of luxurious living space. The modern design features sleek lines, large windows, and high-end finishes throughout. The open concept layout creates a seamless flow between the living room, dining area, and gourmet kitchen, perfect for entertaining guests. The kitchen is equipped with stainless steel appliances, quartz countertops, and a spacious island for casual dining. Retreat to the master suite, complete with a spa-like ensuite bathroom and a walk-in closet. Additional highlights include a cozy fireplace, a home office, and a private backyard oasis with a patio for outdoor relaxation.', 'house_size': '3005 sqft', 'neighborhood': 'Royal Estates', 'neighborhood_description': 'Nestled in the heart of Royal Estates, this upscale neighborhood offers residents a luxurious and convenient lifestyle. With top-rated schools, upscale shopping centers, and gourmet restaurants just a short drive away, Royal Estates provides the perfect balance of tranquility and urban convenience. The neighborhood features beautifully landscaped parks, walking trails, and community playgrounds, ideal for outdoor recreation. Easy access to public transportation and major highways makes commuting a breeze. Experience the epitome of modern living in Royal Estates.', 'price': '$385,791'}\n"
     ]
    }
   ],
   "source": [
    "# Check Vector Database\n",
    "collection = app.chroma_client.get_collection(app.collection_name)\n",
    "\n",
    "# Show total count\n",
    "print(\"📦 Total items in vector DB:\", collection.count())\n",
    "\n",
    "# Get the first listing\n",
    "results = collection.get(include=[\"documents\", \"metadatas\"], limit=1)\n",
    "\n",
    "print(\"\\n--- First listing ---\")\n",
    "print(\"Document:\", results[\"documents\"][0][:200], \"...\")\n",
    "print(\"Metadata:\", results[\"metadatas\"][0])"
   ]
  },
  {
   "cell_type": "markdown",
   "id": "025b4310",
   "metadata": {},
   "source": [
    "## User Preferences\n",
    "\n",
    "### Custom Property Generation\n",
    "The system can generate properties with specific characteristics by modifying the generation prompts or providing seed data."
   ]
  },
  {
   "cell_type": "code",
   "execution_count": null,
   "id": "c8e425a6",
   "metadata": {},
   "outputs": [
    {
     "name": "stdout",
     "output_type": "stream",
     "text": [
      "\n",
      "Processed preferences: Search Query: I am looking for a 3-bedroom house with a garden under $500,000 located near a park. The house should ideally be family-friendly and in a suburban neighborhood. It should have easy access to transportation and be pet-friendly. The presence of a garage would be a bonus.\n"
     ]
    }
   ],
   "source": [
    "# Test processing preferences\n",
    "preferences = \"I want a 3-bedroom house with a garden under $500,000 near a park\"\n",
    "processed = app.process_preferences(preferences)\n",
    "print(\"\\nProcessed preferences:\", processed)"
   ]
  },
  {
   "cell_type": "markdown",
   "id": "b0fd76e3",
   "metadata": {},
   "source": [
    "### Observation\n",
    "\n",
    "The LLM successfully converted the user input into a structured natural language and searchable query."
   ]
  },
  {
   "cell_type": "code",
   "execution_count": null,
   "id": "99a9a1d8",
   "metadata": {},
   "outputs": [
    {
     "name": "stdout",
     "output_type": "stream",
     "text": [
      "\n",
      "🔍 SEARCHING FOR: 'Search Query: I am looking for a 3-bedroom house with a garden under $500,000 located near a park. The house should ideally be family-friendly and in a suburban neighborhood. It should have easy access to transportation and be pet-friendly. The presence of a garage would be a bonus.'\n",
      "================================================================================\n",
      "📝 Step 1: Processing preferences...\n",
      "   Result: Search Query: I am looking for a 3-bedroom, 2-bathroom house with a garden under $500,000 in a suburban neighborhood near a park. The house should be family-friendly, pet-friendly, and ideally have a garage. Easy access to transportation is important.\n",
      "\n",
      "🔎 Step 2: Searching vector database...\n",
      "🔍 Detected constraints: Budget=$500,000, Min bedrooms=3\n",
      "📋 3/10 properties match constraints\n",
      "✅ Found 3 matching properties\n",
      "\n",
      "🏠 PROPERTY 1\n",
      "   📍 Location: Royal Estates\n",
      "   💰 Price: $385,791\n",
      "   🛏️  Specs: 5 bed, 3 bath, 3005 sqft sqft\n",
      "   📄 Preview: Welcome to your dream home - a spectacular modern residence in the prestigiou...\n",
      "\n",
      "🏠 PROPERTY 2\n",
      "   📍 Location: Heritage Square\n",
      "   💰 Price: $409,274\n",
      "   🛏️  Specs: 4 bed, 3 bath, 1730 sqft sqft\n",
      "   📄 Preview: This remarkable ranch home offers the ultimate in Heritage Square living. Ste...\n",
      "\n",
      "🏠 PROPERTY 3\n",
      "   📍 Location: Skyline Towers\n",
      "   💰 Price: $483,161\n",
      "   🛏️  Specs: 6 bed, 2 bath, 4461 sqft sqft\n",
      "   📄 Preview: This remarkable contemporary home offers the ultimate in Skyline Towers livin...\n",
      "\n",
      "\n",
      "Found 3 matching listings:\n",
      "- Royal Estates $385,791\n",
      "- Heritage Square $409,274\n",
      "- Skyline Towers $483,161\n"
     ]
    }
   ],
   "source": [
    "# Test search\n",
    "results = app.improved_search_listings(processed, num_results=3)\n",
    "print(f\"\\nFound {len(results)} matching listings:\")\n",
    "for r in results:\n",
    "    print(\"-\", r[\"neighborhood\"], r[\"price\"])"
   ]
  },
  {
   "cell_type": "code",
   "execution_count": null,
   "id": "033a616a",
   "metadata": {},
   "outputs": [
    {
     "name": "stdout",
     "output_type": "stream",
     "text": [
      "\n",
      "Personalized description:\n",
      " Welcome to your perfect oasis in Royal Estates! This stunning 5-bedroom, 3-bathroom home is a dream come true for those seeking a spacious property with a beautiful garden. With a price of $385,791, this gem offers more than just your desired 3 bedrooms - it gives you 5! Imagine coming home to a lush garden after a stroll in the nearby park, with a total of 3005 sqft of luxurious living space awaiting you.\n",
      "\n",
      "The modern design of this home is sure to captivate you, with sleek lines, large windows, and high-end finishes throughout. The open concept layout seamlessly connects the living room, dining area, and gourmet kitchen, making it the perfect space for entertaining guests. The kitchen is a chef's delight, equipped with stainless steel appliances, quartz countertops, and a spacious island for casual dining.\n",
      "\n",
      "Retreat to the master suite for ultimate relaxation, complete with a spa-like ensuite bathroom and a walk-in closet. The cozy fireplace, home office, and private backyard oasis with a patio for outdoor relaxation are just a few of the additional highlights awaiting you.\n",
      "\n",
      "In the prestigious Royal Estates neighborhood, you'll have access to top-rated schools, upscale shopping centers, and gourmet restaurants just a short drive away. The beautifully landscaped parks, walking trails, and community playgrounds are ideal for outdoor recreation, perfectly complementing your desire for a garden and proximity to a park.\n",
      "\n",
      "Royal Estates truly embodies the epitome of modern living, offering a luxurious and convenient lifestyle with easy access to public transportation and major highways for a seamless commute. Don't miss out on this opportunity to own your dream home in Royal Estates - schedule a viewing today and make your dream a reality!\n"
     ]
    }
   ],
   "source": [
    "# Test personalized description\n",
    "if results:\n",
    "    personalized = app.personalize_description(results[0], preferences)\n",
    "    print(\"\\nPersonalized description:\\n\", personalized)"
   ]
  },
  {
   "cell_type": "markdown",
   "id": "6de9f928",
   "metadata": {},
   "source": [
    "## 📱 Interactive Testing Widget\n",
    "\n",
    "**Now that you have a clear overview of how the system works it's time to try the interactive app**"
   ]
  },
  {
   "cell_type": "code",
   "execution_count": null,
   "id": "e9bf12b1",
   "metadata": {
    "scrolled": true
   },
   "outputs": [
    {
     "data": {
      "application/vnd.jupyter.widget-view+json": {
       "model_id": "3319c4339fb9418a8de99ec152a4db99",
       "version_major": 2,
       "version_minor": 0
      },
      "text/plain": [
       "VBox(children=(HTML(value='<h4>📋 Quick Test Examples</h4>'), HTML(value=\"<p style='color: #666;'>Click any exa…"
      ]
     },
     "metadata": {},
     "output_type": "display_data"
    },
    {
     "data": {
      "application/vnd.jupyter.widget-view+json": {
       "model_id": "207de92fdb024a2e8dc8f240a55b5e70",
       "version_major": 2,
       "version_minor": 0
      },
      "text/plain": [
       "VBox(children=(HTML(value=\"<h3>🏠 HomeMatch Functionality Tester</h3><p style='color: #666;'>Test search and pe…"
      ]
     },
     "metadata": {},
     "output_type": "display_data"
    },
    {
     "data": {
      "application/vnd.jupyter.widget-view+json": {
       "model_id": "414b2661dbaf47bd927c570248f8bcc4",
       "version_major": 2,
       "version_minor": 0
      },
      "text/plain": [
       "HTML(value='\\n    <div style=\\'background: #f0f7ff; padding: 20px; border-radius: 10px; margin-top: 20px; bord…"
      ]
     },
     "metadata": {},
     "output_type": "display_data"
    }
   ],
   "source": [
    "# Run this cell after instanciating the HomeMatchApp class, generating and loading vectors.\n",
    "from tester import create_simple_tester\n",
    "tester = create_simple_tester(app)"
   ]
  },
  {
   "cell_type": "markdown",
   "id": "6c34d7d0",
   "metadata": {},
   "source": [
    "### Quick Setup\n",
    "\n",
    "**This handles app creation, data loading, and tester display**\n",
    "<br>\n",
    "```\n",
    "    from tester import quick_test_setup\n",
    "\n",
    "    app, tester = quick_test_setup(\n",
    "        api_key=\"your-openai-key\",\n",
    "        generate_new=False  # Set to True to generate fresh listings\n",
    "    )\n",
    "```"
   ]
  },
  {
   "cell_type": "code",
   "execution_count": 3,
   "id": "78aab4d9",
   "metadata": {},
   "outputs": [
    {
     "name": "stdout",
     "output_type": "stream",
     "text": [
      "🚀 Setting up HomeMatch quick test environment...\n",
      "⚙️ HomeMatchApp initialized — no listings generated yet.\n",
      "📂 Loading existing listings...\n",
      "📂 Loaded 10 listings from listings.json\n",
      "✅ Successfully added 10 listings to vector database.\n"
     ]
    },
    {
     "data": {
      "application/vnd.jupyter.widget-view+json": {
       "model_id": "ede61f730142427e81b985f2f3a7d38e",
       "version_major": 2,
       "version_minor": 0
      },
      "text/plain": [
       "VBox(children=(HTML(value='<h4>📋 Quick Test Examples</h4>'), HTML(value=\"<p style='color: #666;'>Click any exa…"
      ]
     },
     "metadata": {},
     "output_type": "display_data"
    },
    {
     "data": {
      "application/vnd.jupyter.widget-view+json": {
       "model_id": "0bb9d80bfb184c8ca4c8c65fbcb1c5f1",
       "version_major": 2,
       "version_minor": 0
      },
      "text/plain": [
       "VBox(children=(HTML(value=\"<h3>🏠 HomeMatch Functionality Tester</h3><p style='color: #666;'>Test search and pe…"
      ]
     },
     "metadata": {},
     "output_type": "display_data"
    },
    {
     "data": {
      "application/vnd.jupyter.widget-view+json": {
       "model_id": "ed71740fc72c484ea6ae7861da117b9e",
       "version_major": 2,
       "version_minor": 0
      },
      "text/plain": [
       "HTML(value='\\n    <div style=\\'background: #f0f7ff; padding: 20px; border-radius: 10px; margin-top: 20px; bord…"
      ]
     },
     "metadata": {},
     "output_type": "display_data"
    },
    {
     "name": "stdout",
     "output_type": "stream",
     "text": [
      "✅ Setup complete! Ready for testing.\n"
     ]
    }
   ],
   "source": [
    "# Run this cell for a quick start\n",
    "from tester import quick_test_setup\n",
    "app, tester = quick_test_setup(\n",
    "        api_key=\"your-openai-key\",\n",
    "        generate_new=False  # Set to True to generate fresh listings\n",
    "    )"
   ]
  },
  {
   "cell_type": "markdown",
   "id": "dca5b959",
   "metadata": {},
   "source": [
    "## Results\n",
    "\n"
   ]
  },
  {
   "cell_type": "markdown",
   "id": "a6bdab1d",
   "metadata": {},
   "source": [
    "**Here are some results of the implementation when providing different queries to the interactive tester app:**\n",
    "\n",
    "- The LLM successfully converts the user input into a structured natural language and searchable query.\n",
    "- The app correctly detects budgets and apply them when filtering listings.\n",
    "- The search correctly enforces the amount of bedrooms depending on the query.\n",
    "- The generated property descriptions highlight the buyer's preferences.\n",
    "\n",
    "---\n",
    "\n",
    "\n",
    "## **Query**: *Budget starter home under $400k with good schools nearby*\n",
    "\n",
    "### Semantic Search\n",
    "![Search screenshot for query 1](./images/search1.jpg)\n",
    "\n",
    "\n",
    "### Buyer's Personalized Description\n",
    "\n",
    "![Search screenshot for query 1](./images/tailored1.jpg)\n",
    "\n",
    "---\n",
    "\n",
    "## **Query**: *Family house with large backyard and 3+ bedrooms within $800k*\n",
    "\n",
    "### Semantic Search\n",
    "![Search screenshot for query 2](./images/search1.jpg)\n",
    "\n",
    "### Buyer's Personalized Description\n",
    "![Search screenshot for query 2](./images/tailored2a.jpg)\n",
    "\n",
    "![Search screenshot for query 2](./images/tailored2b.jpg)\n",
    "\n",
    "---\n",
    "\n",
    "## **Query**: *Pet-friendly house with fenced yard and dog park access*\n",
    "\n",
    "### Semantic Search\n",
    "![Search screenshot for query 3](./images/search1.jpg)\n",
    "\n",
    "### Buyer's Personalized Description\n",
    "![Search screenshot for query 3](./images/tailored3.jpg)\n",
    "\n",
    "\n"
   ]
  }
 ],
 "metadata": {
  "kernelspec": {
   "display_name": "Python 3 (ipykernel)",
   "language": "python",
   "name": "python3"
  },
  "language_info": {
   "codemirror_mode": {
    "name": "ipython",
    "version": 3
   },
   "file_extension": ".py",
   "mimetype": "text/x-python",
   "name": "python",
   "nbconvert_exporter": "python",
   "pygments_lexer": "ipython3",
   "version": "3.10.11"
  }
 },
 "nbformat": 4,
 "nbformat_minor": 5
}
